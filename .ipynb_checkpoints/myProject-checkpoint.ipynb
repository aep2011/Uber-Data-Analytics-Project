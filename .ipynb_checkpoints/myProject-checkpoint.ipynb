{
 "cells": [
  {
   "cell_type": "markdown",
   "id": "2e654c6f-92a6-485d-b0a4-2c54b361b6e1",
   "metadata": {},
   "source": [
    "# Uber Data Analytics Project / EXECUTIVE SUMMARY\n",
    "\n",
    "Questions to be answered;\n",
    "What is the distribution of total bookings over time?\n",
    "How do average ratings for customers and drivers vary by time of day or day of the week?\n",
    "hat is the distribution of ride cancellation reasons for both customers and drivers?\n",
    "Does the time a driver takes to arrive at a pickup location (Avg VTAT) impact whether a ride is canceled?\n",
    "How does the average time a driver takes to arrive at a pickup location (Avg VTAT) correlate with customer rating? \n",
    "Calculate the cancellation rate for each vehicle type and identify which type has the highest rate."
   ]
  },
  {
   "cell_type": "markdown",
   "id": "4819dc61-ec4f-47b9-8ee0-4fbdaf642019",
   "metadata": {},
   "source": [
    "# Data Sourcing and Loading:"
   ]
  },
  {
   "cell_type": "code",
   "execution_count": 1,
   "id": "df68cdbf-1fec-4690-a4a0-01561ed71a8d",
   "metadata": {
    "panel-layout": {
     "height": 0,
     "visible": true,
     "width": 100
    }
   },
   "outputs": [],
   "source": [
    "import pandas as pd\n",
    "import matplotlib.pyplot as plt\n",
    "df = pd.read_csv(\"ncr_ride_bookings.csv\")"
   ]
  },
  {
   "cell_type": "markdown",
   "id": "acdb7308-d23a-4879-b99b-0ac4556699eb",
   "metadata": {},
   "source": [
    "# Exploratory Data Analysis EDA\n",
    "## General Information"
   ]
  },
  {
   "cell_type": "code",
   "execution_count": 2,
   "id": "4ba84b28-6e78-492c-8ba9-ef8f9ab7517b",
   "metadata": {},
   "outputs": [
    {
     "name": "stdout",
     "output_type": "stream",
     "text": [
      "         Date      Time    Booking ID   Booking Status   Customer ID  \\\n",
      "0  2024-03-23  12:29:38  \"CNR5884300\"  No Driver Found  \"CID1982111\"   \n",
      "1  2024-11-29  18:01:39  \"CNR1326809\"       Incomplete  \"CID4604802\"   \n",
      "2  2024-08-23  08:56:10  \"CNR8494506\"        Completed  \"CID9202816\"   \n",
      "3  2024-10-21  17:17:25  \"CNR8906825\"        Completed  \"CID2610914\"   \n",
      "4  2024-09-16  22:08:00  \"CNR1950162\"        Completed  \"CID9933542\"   \n",
      "\n",
      "    Vehicle Type      Pickup Location      Drop Location  Avg VTAT  Avg CTAT  \\\n",
      "0          eBike          Palam Vihar            Jhilmil       NaN       NaN   \n",
      "1       Go Sedan        Shastri Nagar  Gurgaon Sector 56       4.9      14.0   \n",
      "2           Auto              Khandsa      Malviya Nagar      13.4      25.8   \n",
      "3  Premier Sedan  Central Secretariat           Inderlok      13.1      28.5   \n",
      "4           Bike     Ghitorni Village        Khan Market       5.3      19.6   \n",
      "\n",
      "   ...  Reason for cancelling by Customer Cancelled Rides by Driver  \\\n",
      "0  ...                                NaN                       NaN   \n",
      "1  ...                                NaN                       NaN   \n",
      "2  ...                                NaN                       NaN   \n",
      "3  ...                                NaN                       NaN   \n",
      "4  ...                                NaN                       NaN   \n",
      "\n",
      "   Driver Cancellation Reason Incomplete Rides  Incomplete Rides Reason  \\\n",
      "0                         NaN              NaN                      NaN   \n",
      "1                         NaN              1.0        Vehicle Breakdown   \n",
      "2                         NaN              NaN                      NaN   \n",
      "3                         NaN              NaN                      NaN   \n",
      "4                         NaN              NaN                      NaN   \n",
      "\n",
      "  Booking Value  Ride Distance  Driver Ratings  Customer Rating  \\\n",
      "0           NaN            NaN             NaN              NaN   \n",
      "1         237.0           5.73             NaN              NaN   \n",
      "2         627.0          13.58             4.9              4.9   \n",
      "3         416.0          34.02             4.6              5.0   \n",
      "4         737.0          48.21             4.1              4.3   \n",
      "\n",
      "   Payment Method  \n",
      "0             NaN  \n",
      "1             UPI  \n",
      "2      Debit Card  \n",
      "3             UPI  \n",
      "4             UPI  \n",
      "\n",
      "[5 rows x 21 columns]\n",
      "(150000, 21)\n",
      "            Avg VTAT       Avg CTAT  Cancelled Rides by Customer  \\\n",
      "count  139500.000000  102000.000000                      10500.0   \n",
      "mean        8.456352      29.149636                          1.0   \n",
      "std         3.773564       8.902577                          0.0   \n",
      "min         2.000000      10.000000                          1.0   \n",
      "25%         5.300000      21.600000                          1.0   \n",
      "50%         8.300000      28.800000                          1.0   \n",
      "75%        11.300000      36.800000                          1.0   \n",
      "max        20.000000      45.000000                          1.0   \n",
      "\n",
      "       Cancelled Rides by Driver  Incomplete Rides  Booking Value  \\\n",
      "count                    27000.0            9000.0  102000.000000   \n",
      "mean                         1.0               1.0     508.295912   \n",
      "std                          0.0               0.0     395.805774   \n",
      "min                          1.0               1.0      50.000000   \n",
      "25%                          1.0               1.0     234.000000   \n",
      "50%                          1.0               1.0     414.000000   \n",
      "75%                          1.0               1.0     689.000000   \n",
      "max                          1.0               1.0    4277.000000   \n",
      "\n",
      "       Ride Distance  Driver Ratings  Customer Rating  \n",
      "count  102000.000000    93000.000000     93000.000000  \n",
      "mean       24.637012        4.230992         4.404584  \n",
      "std        14.002138        0.436871         0.437819  \n",
      "min         1.000000        3.000000         3.000000  \n",
      "25%        12.460000        4.100000         4.200000  \n",
      "50%        23.720000        4.300000         4.500000  \n",
      "75%        36.820000        4.600000         4.800000  \n",
      "max        50.000000        5.000000         5.000000  \n"
     ]
    }
   ],
   "source": [
    "#getting an overview of all the columns and datatypes\n",
    "print(df.head())\n",
    "#confirming the size of the dataframe\n",
    "print(df.shape)\n",
    "#general info on values\n",
    "print(df.describe())\n"
   ]
  },
  {
   "cell_type": "markdown",
   "id": "fdb3d7e4-512b-42e9-8693-2d0a1d5e02df",
   "metadata": {},
   "source": [
    "## Investigating the 'Booking Status' column"
   ]
  },
  {
   "cell_type": "code",
   "execution_count": 3,
   "id": "986a6bf5-1882-405e-873e-6a150f6cd9e3",
   "metadata": {},
   "outputs": [
    {
     "name": "stdout",
     "output_type": "stream",
     "text": [
      "Booking Status\n",
      "Cancelled by Customer    10500\n",
      "Cancelled by Driver      27000\n",
      "Completed                93000\n",
      "Incomplete                9000\n",
      "No Driver Found          10500\n",
      "Name: Booking Status, dtype: int64\n"
     ]
    },
    {
     "data": {
      "image/png": "[encoded data removed]",
      "text/plain": [
       "<Figure size 640x480 with 1 Axes>"
      ]
     },
     "metadata": {},
     "output_type": "display_data"
    }
   ],
   "source": [
    "df.groupby('Booking Status').size().plot(kind='bar')\n",
    "print(df.groupby('Booking Status')['Booking Status'].size())\n",
    "\n",
    "status_cancelled_customer = (df['Booking Status']=='Cancelled by Customer')\n",
    "status_cancelled_driver = (df['Booking Status']=='Cancelled by Driver')\n",
    "status_complete = (df['Booking Status']=='Complete')\n",
    "status_incomplete = (df['Booking Status']=='Incomplete')\n",
    "status_no_driver_found = (df['Booking Status']=='No Driver Found')\n",
    "\n",
    "total_rides_not_finished = status_cancelled_customer + status_cancelled_driver + status_incomplete + status_no_driver_found\n",
    "total_rides_not_started = status_cancelled_customer + status_cancelled_driver + status_no_driver_found\n"
   ]
  },
  {
   "cell_type": "markdown",
   "id": "e5d537ea-83cb-4e18-83d2-e59b635f43b1",
   "metadata": {},
   "source": [
    "### Validating the Booking Status"
   ]
  },
  {
   "cell_type": "code",
   "execution_count": 10,
   "id": "29ccbd71-c040-4809-9882-ae13f7786f60",
   "metadata": {},
   "outputs": [
    {
     "name": "stdout",
     "output_type": "stream",
     "text": [
      "Validation for Booking Status successful\n"
     ]
    }
   ],
   "source": [
    "rides_cancelled_customer = df['Cancelled Rides by Customer'].notna()\n",
    "rides_cancelled_driver = df['Cancelled Rides by Driver'].notna()\n",
    "rides_incomplete = df['Incomplete Rides'].notna()\n",
    "\n",
    "total_diff_rides_cancelled_customer_status = (rides_cancelled_customer!= status_cancelled_customer).sum()\n",
    "assert total_diff_rides_cancelled_customer_status == 0, \"Validation Failed: Found {total_diff_rides_cancelled_customer_status} rows overlapping categories\"\n",
    "\n",
    "total_diff_rides_cancelled_driver_status = (rides_cancelled_driver != status_cancelled_driver).sum()\n",
    "assert total_diff_rides_cancelled_driver_status == 0, \"Validation Failed: Found {total_diff_rides_cancelled_driver_status} rows overlapping categories\"\n",
    "\n",
    "total_diff_rides_incomplete_status = (rides_incomplete != status_incomplete).sum()\n",
    "assert total_diff_rides_incomplete_status == 0, \"Validation Failed: Found {total_diff_rides_incomplete_status} rows overlapping categories\"\n",
    "\n",
    "print(\"Validation for Booking Status successful\")\n"
   ]
  },
  {
   "cell_type": "markdown",
   "id": "d3d8a2f3-91d0-4b65-91c9-9a642914b098",
   "metadata": {},
   "source": [
    "## Investigating missing values\n"
   ]
  },
  {
   "cell_type": "code",
   "execution_count": 5,
   "id": "a1ad0f10-a2be-4092-8b3c-4b4b846b224e",
   "metadata": {},
   "outputs": [
    {
     "name": "stdout",
     "output_type": "stream",
     "text": [
      "Date                                      0\n",
      "Time                                      0\n",
      "Booking ID                                0\n",
      "Booking Status                            0\n",
      "Customer ID                               0\n",
      "Vehicle Type                              0\n",
      "Pickup Location                           0\n",
      "Drop Location                             0\n",
      "Avg VTAT                              10500\n",
      "Avg CTAT                              48000\n",
      "Cancelled Rides by Customer          139500\n",
      "Reason for cancelling by Customer    139500\n",
      "Cancelled Rides by Driver            123000\n",
      "Driver Cancellation Reason           123000\n",
      "Incomplete Rides                     141000\n",
      "Incomplete Rides Reason              141000\n",
      "Booking Value                         48000\n",
      "Ride Distance                         48000\n",
      "Driver Ratings                        57000\n",
      "Customer Rating                       57000\n",
      "Payment Method                        48000\n",
      "dtype: int64\n"
     ]
    }
   ],
   "source": [
    "#total amount of null-values per column\n",
    "print(df.isna().sum())"
   ]
  },
  {
   "cell_type": "markdown",
   "id": "fd7bb67b-7722-436d-8f1b-4e49b61f5db2",
   "metadata": {},
   "source": [
    "### Validating VTAT and CTAT"
   ]
  },
  {
   "cell_type": "markdown",
   "id": "8e6cca76-fec5-4402-bf2b-89894db70c4e",
   "metadata": {},
   "source": [
    "The  missing values in the column 'Avg VTAT', i.e. the average time for the driver to reach the pickup location, correspond to the rides where no driver could be found.\n",
    "\n",
    "The missing values in the column 'Avg CTAT', i.e the average trip duration from pickup to destination, correspond to the rides that have never been started, meaning they have the status Cancelled by Customer, Cancelled by Driver or No Driver Found."
   ]
  },
  {
   "cell_type": "code",
   "execution_count": 6,
   "id": "e4f13b9f-b967-4013-a78b-7765ad752837",
   "metadata": {},
   "outputs": [
    {
     "name": "stdout",
     "output_type": "stream",
     "text": [
      "Validation for VTAT and CTAT successful\n"
     ]
    }
   ],
   "source": [
    "nas_vtat = df['Avg VTAT'].isna()\n",
    "nas_ctat = df['Avg CTAT'].isna()\n",
    "\n",
    "total_diff_nas_vtat_no_driver_found = ((nas_vtat.astype(int) + status_no_driver_found.astype(int)) == 1).sum()\n",
    "assert total_diff_nas_vtat_no_driver_found == 0, \"Validation Failed: Found {total_diff_nas_vtat_no_driver_found} rows overlapping categories\"\n",
    "\n",
    "total_diff_nas_ctat_rides_not_started = ((nas_ctat.astype(int) + total_rides_not_started.astype(int)) == 1).sum()\n",
    "assert total_diff_nas_ctat_rides_not_started== 0, \"Validation Failed: Found {total_diff_nas_ctat_rides_not_started} rows overlapping categories\"\n",
    "\n",
    "print(\"Validation for VTAT and CTAT successful\")\n"
   ]
  },
  {
   "cell_type": "markdown",
   "id": "157558c7-c9b3-4f1f-a713-a9262a46c69d",
   "metadata": {},
   "source": [
    "### Validating Cancelled & Incomplete Rides"
   ]
  },
  {
   "cell_type": "markdown",
   "id": "a227e2b0-7e3c-4c99-8d49-b5c3af2eb31c",
   "metadata": {},
   "source": [
    "The columns for 'Cancelled Rides by Customer' have 139'500 missing values. This is expected as a value of 1.0 is only recorded when the ride indeed has been cancelled. This number of missing values also corresponds to the amount of missing values of the column 'Reason for cancelling by Customer'. The similar reasoning can be applied for the columns 'Cancelled Rides by Driver' and 'Driver Cancellation Reason' as well as 'Incomplete Rides' and 'Incomplete Rides Reason'."
   ]
  },
  {
   "cell_type": "code",
   "execution_count": 7,
   "id": "2ffcfe51-814b-4d92-8cd9-224c082da1b3",
   "metadata": {},
   "outputs": [
    {
     "name": "stdout",
     "output_type": "stream",
     "text": [
      "Validation for Cancelled and Incomplete Rides successful\n"
     ]
    }
   ],
   "source": [
    "#identify rows where rides have been cancelled or are incomplete\n",
    "cancelled_customer = df['Cancelled Rides by Customer'].notna()\n",
    "cancelled_driver = df['Cancelled Rides by Driver'].notna()\n",
    "incomplete_ride = df['Incomplete Rides'].notna()\n",
    "\n",
    "#check for the total number of rides that have both the booking status 'No Driver Found' and an entry in the 'Cancelled by Customer' column as both are the same size\n",
    "no_driver_found_cancelled_customer_overlaps = (status_no_driver_found & cancelled_customer).sum()\n",
    "assert no_driver_found_cancelled_customer_overlaps == 0, \"Validation Failed: Found {no_driver_found_cancelled_customer_overlaps} rows overlapping categories\"\n",
    "\n",
    "#check for the total number of rides that have more than one entry in the cancelled or incomplete columnns\n",
    "num_overlaps = ((cancelled_customer.astype(int) + cancelled_driver.astype(int) + incomplete_ride.astype(int)) > 1).sum()\n",
    "assert num_overlaps == 0, \"Validation Failed: Found {num_overlaps} rows overlapping categories\"\n",
    "\n",
    "#check for mismatches\n",
    "cancelled_customer_reason = df['Reason for cancelling by Customer'].notna()\n",
    "cancelled_driver_reason = df['Driver Cancellation Reason'].notna() \n",
    "incomplete_ride_reason = df['Incomplete Rides Reason'].notna()\n",
    "\n",
    "total_diff_cancelled_customer_reason = (cancelled_customer!=cancelled_customer_reason).sum()\n",
    "assert total_diff_cancelled_customer_reason == 0, \"Validation Failed: Found {total_diff_cancelled_customer_reason} rows overlapping categories\"\n",
    "\n",
    "total_diff_cancelled_driver_reason = (cancelled_driver!=cancelled_driver_reason).sum()\n",
    "assert total_diff_cancelled_driver_reason == 0, \"Validation Failed: Found {total_diff_cancelled_driver_reason} rows overlapping categories\"\n",
    "\n",
    "total_diff_incomplete_ride_reason = (incomplete_ride!=incomplete_ride_reason).sum()\n",
    "assert total_diff_incomplete_ride_reason == 0, \"Validation Failed: Found {total_diff_incomplete_ride_reason} rows overlapping categories\"\n",
    "\n",
    "print(\"Validation for Cancelled and Incomplete Rides successful\")\n"
   ]
  },
  {
   "cell_type": "markdown",
   "id": "49d896fe-8208-4dca-9b5a-a49518df16d0",
   "metadata": {},
   "source": [
    "### Validating Booking Value, Ride Distance and Payment Method "
   ]
  },
  {
   "cell_type": "markdown",
   "id": "951a5436-9712-49e1-8ffa-c8e329f7f78a",
   "metadata": {},
   "source": [
    "The rows where no Booking Value, Ride Distance and Payment Method where recorded correspond to the rides that have never been started, i.e. they have no 'Avg CTAT' entry which has been validated above."
   ]
  },
  {
   "cell_type": "code",
   "execution_count": 8,
   "id": "2c336f46-31c3-40b8-a7da-7315760cec1c",
   "metadata": {},
   "outputs": [
    {
     "name": "stdout",
     "output_type": "stream",
     "text": [
      "Validation for Booking Value, Ride Distance and Payment Method successful\n"
     ]
    }
   ],
   "source": [
    "nas_booking_value = df['Booking Value'].isna()\n",
    "nas_ride_distance = df['Ride Distance'].isna()\n",
    "nas_payment_method = df['Payment Method'].isna()\n",
    "\n",
    "total_diff_booking_value_ride_distance_payment_method = ((nas_booking_value!=nas_ride_distance) | (nas_ride_distance!=nas_payment_method)).sum()\n",
    "assert total_diff_booking_value_ride_distance_payment_method == 0, \"Validation Failed: Found {total_diff_booking_value_ride_distance_payment_method} rows overlapping categories\"\n",
    "\n",
    "total_diff_rides_not_started_no_booking = (total_rides_not_started!=nas_booking_value).sum()\n",
    "assert total_diff_rides_not_started_no_booking == 0, \"Validation Failed: Found {total_diff_rides_not_started_no_booking} rows overlapping categories\"\n",
    "\n",
    "total_diff_rides_not_started_no_ride = (total_rides_not_started!=nas_ride_distance).sum()\n",
    "assert total_diff_rides_not_started_no_ride == 0, \"Validation Failed: Found {total_diff_rides_not_started_no_ride} rows overlapping categories\"\n",
    "\n",
    "total_diff_rides_not_started_no_payment = (total_rides_not_started!=nas_payment_method).sum()\n",
    "assert total_diff_booking_value_ride_distance_payment_method == 0, \"Validation Failed: Found {total_diff_booking_value_ride_distance_payment_method} rows overlapping categories\"\n",
    "\n",
    "print(\"Validation for Booking Value, Ride Distance and Payment Method successful\")\n",
    "\n"
   ]
  },
  {
   "cell_type": "markdown",
   "id": "1a442159-3201-4385-a77b-faec236e9641",
   "metadata": {},
   "source": [
    "### Validating Driver and Customer Ratings"
   ]
  },
  {
   "cell_type": "code",
   "execution_count": null,
   "id": "df8a8f48-e40a-4bea-9006-1991348625a8",
   "metadata": {},
   "outputs": [],
   "source": []
  },
  {
   "cell_type": "code",
   "execution_count": 9,
   "id": "eafe5de1-cf17-4263-98bb-4647ca55018d",
   "metadata": {},
   "outputs": [
    {
     "name": "stdout",
     "output_type": "stream",
     "text": [
      "Validation for Driver and Customer Ratings successful\n"
     ]
    }
   ],
   "source": [
    "nas_driver_ratings = df['Driver Ratings'].isna()\n",
    "nas_customer_ratings = df['Driver Ratings'].isna()\n",
    "\n",
    "total_diff_driver_customer_ratings = (nas_driver_ratings != nas_customer_ratings).sum()\n",
    "assert total_diff_driver_customer_ratings == 0, \"Validation Failed: Found {total_diff_driver_customer_ratings} rows with overlapping categories.\"\n",
    "\n",
    "total_diff_rides_not_finished_driver_ratings = (nas_driver_ratings != total_rides_not_finished).sum()\n",
    "assert total_diff_rides_not_finished_driver_ratings == 0, \"Validation Failed: Found {total_diff_rides_not_finished_driver_ratings} rows with overlapping categories.\"\n",
    "\n",
    "total_diff_rides_not_finished_customer_ratings = (nas_customer_ratings != total_rides_not_finished).sum()\n",
    "assert total_diff_rides_not_finished_customer_ratings == 0, \"Validation Failed: Found {total_diff_rides_not_finished_customer_ratings} rows with overlapping categories.\"\n",
    "\n",
    "print(\"Validation for Driver and Customer Ratings successful\")\n"
   ]
  },
  {
   "cell_type": "code",
   "execution_count": null,
   "id": "7720b8cb-29f8-4fa2-87c9-b33981bf8929",
   "metadata": {},
   "outputs": [],
   "source": []
  }
 ],
 "metadata": {
  "kernelspec": {
   "display_name": "Python [conda env:base] *",
   "language": "python",
   "name": "conda-base-py"
  },
  "language_info": {
   "codemirror_mode": {
    "name": "ipython",
    "version": 3
   },
   "file_extension": ".py",
   "mimetype": "text/x-python",
   "name": "python",
   "nbconvert_exporter": "python",
   "pygments_lexer": "ipython3",
   "version": "3.13.5"
  },
  "panel-cell-order": [
   "4dfe3469-61f4-48e9-941d-5516f2a40d99"
  ]
 },
 "nbformat": 4,
 "nbformat_minor": 5
}
